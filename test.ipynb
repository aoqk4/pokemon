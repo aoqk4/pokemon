{
 "cells": [
  {
   "cell_type": "code",
   "execution_count": 1,
   "metadata": {},
   "outputs": [
    {
     "name": "stderr",
     "output_type": "stream",
     "text": [
      "2023-12-05 09:32:20.797615: I external/local_tsl/tsl/cuda/cudart_stub.cc:31] Could not find cuda drivers on your machine, GPU will not be used.\n",
      "2023-12-05 09:32:21.118627: E external/local_xla/xla/stream_executor/cuda/cuda_dnn.cc:9261] Unable to register cuDNN factory: Attempting to register factory for plugin cuDNN when one has already been registered\n",
      "2023-12-05 09:32:21.118698: E external/local_xla/xla/stream_executor/cuda/cuda_fft.cc:607] Unable to register cuFFT factory: Attempting to register factory for plugin cuFFT when one has already been registered\n",
      "2023-12-05 09:32:21.176865: E external/local_xla/xla/stream_executor/cuda/cuda_blas.cc:1515] Unable to register cuBLAS factory: Attempting to register factory for plugin cuBLAS when one has already been registered\n",
      "2023-12-05 09:32:21.292946: I external/local_tsl/tsl/cuda/cudart_stub.cc:31] Could not find cuda drivers on your machine, GPU will not be used.\n",
      "2023-12-05 09:32:21.295066: I tensorflow/core/platform/cpu_feature_guard.cc:182] This TensorFlow binary is optimized to use available CPU instructions in performance-critical operations.\n",
      "To enable the following instructions: AVX2 FMA, in other operations, rebuild TensorFlow with the appropriate compiler flags.\n",
      "2023-12-05 09:32:22.438408: W tensorflow/compiler/tf2tensorrt/utils/py_utils.cc:38] TF-TRT Warning: Could not find TensorRT\n"
     ]
    }
   ],
   "source": [
    "# import mod\n",
    "import tensorflow as tf\n",
    "from tensorflow import keras\n",
    "import pandas as pd\n",
    "import matplotlib.pyplot as plt\n",
    "import os\n",
    "import sys\n",
    "from PIL import Image\n",
    "import tensorflow as tf\n",
    "from tensorflow.keras.preprocessing import image\n",
    "from tensorflow.keras.preprocessing.image import ImageDataGenerator"
   ]
  },
  {
   "cell_type": "code",
   "execution_count": 2,
   "metadata": {},
   "outputs": [
    {
     "data": {
      "text/html": [
       "<div>\n",
       "<style scoped>\n",
       "    .dataframe tbody tr th:only-of-type {\n",
       "        vertical-align: middle;\n",
       "    }\n",
       "\n",
       "    .dataframe tbody tr th {\n",
       "        vertical-align: top;\n",
       "    }\n",
       "\n",
       "    .dataframe thead th {\n",
       "        text-align: right;\n",
       "    }\n",
       "</style>\n",
       "<table border=\"1\" class=\"dataframe\">\n",
       "  <thead>\n",
       "    <tr style=\"text-align: right;\">\n",
       "      <th></th>\n",
       "      <th>Name</th>\n",
       "      <th>Type1</th>\n",
       "      <th>Type2</th>\n",
       "    </tr>\n",
       "  </thead>\n",
       "  <tbody>\n",
       "    <tr>\n",
       "      <th>0</th>\n",
       "      <td>bulbasaur</td>\n",
       "      <td>Grass</td>\n",
       "      <td>Poison</td>\n",
       "    </tr>\n",
       "    <tr>\n",
       "      <th>1</th>\n",
       "      <td>ivysaur</td>\n",
       "      <td>Grass</td>\n",
       "      <td>Poison</td>\n",
       "    </tr>\n",
       "    <tr>\n",
       "      <th>2</th>\n",
       "      <td>venusaur</td>\n",
       "      <td>Grass</td>\n",
       "      <td>Poison</td>\n",
       "    </tr>\n",
       "    <tr>\n",
       "      <th>3</th>\n",
       "      <td>charmander</td>\n",
       "      <td>Fire</td>\n",
       "      <td>NaN</td>\n",
       "    </tr>\n",
       "    <tr>\n",
       "      <th>4</th>\n",
       "      <td>charmeleon</td>\n",
       "      <td>Fire</td>\n",
       "      <td>NaN</td>\n",
       "    </tr>\n",
       "  </tbody>\n",
       "</table>\n",
       "</div>"
      ],
      "text/plain": [
       "         Name  Type1   Type2\n",
       "0   bulbasaur  Grass  Poison\n",
       "1     ivysaur  Grass  Poison\n",
       "2    venusaur  Grass  Poison\n",
       "3  charmander   Fire     NaN\n",
       "4  charmeleon   Fire     NaN"
      ]
     },
     "execution_count": 2,
     "metadata": {},
     "output_type": "execute_result"
    }
   ],
   "source": [
    "# dataframe 불러오기\n",
    "poke_data = pd.read_csv(\"./pokemon/pokemon.csv\")\n",
    "\n",
    "# 데이터 확인\n",
    "poke_data.head()"
   ]
  },
  {
   "cell_type": "code",
   "execution_count": 3,
   "metadata": {},
   "outputs": [
    {
     "data": {
      "text/plain": [
       "Name     809\n",
       "Type1    809\n",
       "Type2    405\n",
       "dtype: int64"
      ]
     },
     "execution_count": 3,
     "metadata": {},
     "output_type": "execute_result"
    }
   ],
   "source": [
    "# 전체 갯수 확인\n",
    "poke_data.count()"
   ]
  },
  {
   "cell_type": "code",
   "execution_count": 4,
   "metadata": {},
   "outputs": [
    {
     "data": {
      "text/plain": [
       "Name       0\n",
       "Type1      0\n",
       "Type2    404\n",
       "dtype: int64"
      ]
     },
     "execution_count": 4,
     "metadata": {},
     "output_type": "execute_result"
    }
   ],
   "source": [
    "# 결측치 확인\n",
    "poke_data.isnull().sum()"
   ]
  },
  {
   "cell_type": "code",
   "execution_count": 5,
   "metadata": {},
   "outputs": [],
   "source": [
    "#이미지 불러오기\n",
    "img_path = \"./pokemon/images/images/\"\n",
    "file_list = os.listdir(img_path)\n",
    "\n",
    "# path 에서 이름 나누고\n",
    "jpg_names = [os.path.split(x)[1] for x in file_list]\n",
    "\n",
    "# 나눈 이름 중, png와 jpg 제거해 준다. (이름만을 따기 위함)\n",
    "poke_names = list(map(lambda x: x.replace('.png', ''), jpg_names))\n",
    "poke_names = list(map(lambda x: x.replace('.jpg', ''), poke_names))"
   ]
  },
  {
   "cell_type": "code",
   "execution_count": 6,
   "metadata": {},
   "outputs": [],
   "source": [
    "#나눈 이름 : 경로 가지고 df 생성\n",
    "img_data = pd.DataFrame(data=[poke_names, list(map(lambda x: img_path + x, jpg_names))]) \n",
    "\n",
    "# transpose로 col 맞추어 주고\n",
    "img_data = img_data.T\n",
    "\n",
    "# 이름 변경\n",
    "img_data = img_data.rename(columns={0 : \"Name\", 1 : \"Path\"})"
   ]
  },
  {
   "cell_type": "code",
   "execution_count": 7,
   "metadata": {},
   "outputs": [
    {
     "data": {
      "text/html": [
       "<div>\n",
       "<style scoped>\n",
       "    .dataframe tbody tr th:only-of-type {\n",
       "        vertical-align: middle;\n",
       "    }\n",
       "\n",
       "    .dataframe tbody tr th {\n",
       "        vertical-align: top;\n",
       "    }\n",
       "\n",
       "    .dataframe thead th {\n",
       "        text-align: right;\n",
       "    }\n",
       "</style>\n",
       "<table border=\"1\" class=\"dataframe\">\n",
       "  <thead>\n",
       "    <tr style=\"text-align: right;\">\n",
       "      <th></th>\n",
       "      <th>Name</th>\n",
       "      <th>Type1</th>\n",
       "      <th>Path</th>\n",
       "    </tr>\n",
       "  </thead>\n",
       "  <tbody>\n",
       "    <tr>\n",
       "      <th>0</th>\n",
       "      <td>bulbasaur</td>\n",
       "      <td>Grass</td>\n",
       "      <td>./pokemon/images/images/bulbasaur.png</td>\n",
       "    </tr>\n",
       "    <tr>\n",
       "      <th>1</th>\n",
       "      <td>ivysaur</td>\n",
       "      <td>Grass</td>\n",
       "      <td>./pokemon/images/images/ivysaur.png</td>\n",
       "    </tr>\n",
       "    <tr>\n",
       "      <th>2</th>\n",
       "      <td>venusaur</td>\n",
       "      <td>Grass</td>\n",
       "      <td>./pokemon/images/images/venusaur.png</td>\n",
       "    </tr>\n",
       "    <tr>\n",
       "      <th>3</th>\n",
       "      <td>charmander</td>\n",
       "      <td>Fire</td>\n",
       "      <td>./pokemon/images/images/charmander.png</td>\n",
       "    </tr>\n",
       "    <tr>\n",
       "      <th>4</th>\n",
       "      <td>charmeleon</td>\n",
       "      <td>Fire</td>\n",
       "      <td>./pokemon/images/images/charmeleon.png</td>\n",
       "    </tr>\n",
       "    <tr>\n",
       "      <th>...</th>\n",
       "      <td>...</td>\n",
       "      <td>...</td>\n",
       "      <td>...</td>\n",
       "    </tr>\n",
       "    <tr>\n",
       "      <th>804</th>\n",
       "      <td>stakataka</td>\n",
       "      <td>Rock</td>\n",
       "      <td>./pokemon/images/images/stakataka.jpg</td>\n",
       "    </tr>\n",
       "    <tr>\n",
       "      <th>805</th>\n",
       "      <td>blacephalon</td>\n",
       "      <td>Fire</td>\n",
       "      <td>./pokemon/images/images/blacephalon.jpg</td>\n",
       "    </tr>\n",
       "    <tr>\n",
       "      <th>806</th>\n",
       "      <td>zeraora</td>\n",
       "      <td>Electric</td>\n",
       "      <td>./pokemon/images/images/zeraora.jpg</td>\n",
       "    </tr>\n",
       "    <tr>\n",
       "      <th>807</th>\n",
       "      <td>meltan</td>\n",
       "      <td>Steel</td>\n",
       "      <td>./pokemon/images/images/meltan.jpg</td>\n",
       "    </tr>\n",
       "    <tr>\n",
       "      <th>808</th>\n",
       "      <td>melmetal</td>\n",
       "      <td>Steel</td>\n",
       "      <td>./pokemon/images/images/melmetal.jpg</td>\n",
       "    </tr>\n",
       "  </tbody>\n",
       "</table>\n",
       "<p>809 rows × 3 columns</p>\n",
       "</div>"
      ],
      "text/plain": [
       "            Name     Type1                                     Path\n",
       "0      bulbasaur     Grass    ./pokemon/images/images/bulbasaur.png\n",
       "1        ivysaur     Grass      ./pokemon/images/images/ivysaur.png\n",
       "2       venusaur     Grass     ./pokemon/images/images/venusaur.png\n",
       "3     charmander      Fire   ./pokemon/images/images/charmander.png\n",
       "4     charmeleon      Fire   ./pokemon/images/images/charmeleon.png\n",
       "..           ...       ...                                      ...\n",
       "804    stakataka      Rock    ./pokemon/images/images/stakataka.jpg\n",
       "805  blacephalon      Fire  ./pokemon/images/images/blacephalon.jpg\n",
       "806      zeraora  Electric      ./pokemon/images/images/zeraora.jpg\n",
       "807       meltan     Steel       ./pokemon/images/images/meltan.jpg\n",
       "808     melmetal     Steel     ./pokemon/images/images/melmetal.jpg\n",
       "\n",
       "[809 rows x 3 columns]"
      ]
     },
     "execution_count": 7,
     "metadata": {},
     "output_type": "execute_result"
    }
   ],
   "source": [
    "# merge 시켜서 총 데이터 생성\n",
    "matched_data = poke_data.merge(img_data, on=\"Name\")\n",
    "\n",
    "# Type2는 빈 값이 너무 많아 삭제 후\n",
    "matched_data = matched_data.drop(columns=['Type2'])\n",
    "\n",
    "# 데이터 확인\n",
    "matched_data"
   ]
  },
  {
   "cell_type": "code",
   "execution_count": 8,
   "metadata": {},
   "outputs": [],
   "source": [
    "# 데이터 전처리, 분할, flip으로 이미지 데이터 보강\n",
    "generator = ImageDataGenerator(rescale=1./255, validation_split=0.3, horizontal_flip=True)"
   ]
  },
  {
   "cell_type": "code",
   "execution_count": 9,
   "metadata": {},
   "outputs": [
    {
     "name": "stdout",
     "output_type": "stream",
     "text": [
      "Found 567 validated image filenames belonging to 18 classes.\n"
     ]
    }
   ],
   "source": [
    "# Train 데이터 데이터프레임 iter 생성\n",
    "train_generator = generator.flow_from_dataframe(\n",
    "    dataframe=matched_data,\n",
    "    x_col=\"Path\",\n",
    "    y_col=\"Type1\",\n",
    "    subset=\"training\",\n",
    "    color_mode='rgba',\n",
    "    batch_size=32,\n",
    "    seed=42,\n",
    "    shuffle=True,\n",
    "    target_size=(150, 150) # 이미지 크기 조정\n",
    ")\n"
   ]
  },
  {
   "cell_type": "code",
   "execution_count": 10,
   "metadata": {},
   "outputs": [
    {
     "name": "stdout",
     "output_type": "stream",
     "text": [
      "Found 242 validated image filenames belonging to 18 classes.\n"
     ]
    }
   ],
   "source": [
    "# Test 데이터 데이터프레임 iter 생성\n",
    "validation_generator = generator.flow_from_dataframe(\n",
    "    dataframe=matched_data,\n",
    "    x_col=\"Path\",\n",
    "    y_col=\"Type1\",\n",
    "    subset=\"validation\",\n",
    "    color_mode='rgba',\n",
    "    batch_size=32,\n",
    "    seed=42,\n",
    "    shuffle=True,\n",
    "    target_size=(150, 150) # 이미지 크기 조정\n",
    ")"
   ]
  },
  {
   "cell_type": "code",
   "execution_count": 11,
   "metadata": {},
   "outputs": [
    {
     "name": "stderr",
     "output_type": "stream",
     "text": [
      "2023-12-05 09:32:25.965011: I external/local_xla/xla/stream_executor/cuda/cuda_executor.cc:887] could not open file to read NUMA node: /sys/bus/pci/devices/0000:01:00.0/numa_node\n",
      "Your kernel may have been built without NUMA support.\n",
      "2023-12-05 09:32:25.965363: W tensorflow/core/common_runtime/gpu/gpu_device.cc:2256] Cannot dlopen some GPU libraries. Please make sure the missing libraries mentioned above are installed properly if you would like to use GPU. Follow the guide at https://www.tensorflow.org/install/gpu for how to download and setup the required libraries for your platform.\n",
      "Skipping registering GPU devices...\n",
      "2023-12-05 09:32:26.039496: W external/local_tsl/tsl/framework/cpu_allocator_impl.cc:83] Allocation of 268435456 exceeds 10% of free system memory.\n",
      "2023-12-05 09:32:26.106769: W external/local_tsl/tsl/framework/cpu_allocator_impl.cc:83] Allocation of 268435456 exceeds 10% of free system memory.\n",
      "2023-12-05 09:32:26.702662: W external/local_tsl/tsl/framework/cpu_allocator_impl.cc:83] Allocation of 268435456 exceeds 10% of free system memory.\n"
     ]
    }
   ],
   "source": [
    "model = tf.keras.Sequential([\n",
    "    # 150 x 150 크기의 이미 넣고 채널 늘린다. 활성화 함수 -> Relu\n",
    "    tf.keras.layers.Conv2D(64, (8, 8), activation='relu', input_shape=(150, 150, 4)),\n",
    "    # 이미지 버퍼의 특징 추출\n",
    "    tf.keras.layers.MaxPooling2D(2, 2),\n",
    "    # 과적합 방지 위한 임의 노드 제외\n",
    "    tf.keras.layers.Dropout(0.5),\n",
    "    tf.keras.layers.Conv2D(128, (8, 8), activation='relu'),\n",
    "    tf.keras.layers.MaxPooling2D(2, 2),\n",
    "    tf.keras.layers.Dropout(0.5),\n",
    "    tf.keras.layers.BatchNormalization(),\n",
    "    \n",
    "    # 분류를 위한 1차원화\n",
    "    tf.keras.layers.Flatten(),\n",
    "    # 분류 Dense\n",
    "    tf.keras.layers.Dense(512, activation='relu'),\n",
    "    tf.keras.layers.Dropout(0.5),\n",
    "    tf.keras.layers.Dense(18, activation='softmax')\n",
    "])"
   ]
  },
  {
   "cell_type": "code",
   "execution_count": 12,
   "metadata": {},
   "outputs": [
    {
     "name": "stdout",
     "output_type": "stream",
     "text": [
      "Epoch 1/15\n"
     ]
    },
    {
     "name": "stderr",
     "output_type": "stream",
     "text": [
      "2023-12-05 09:32:27.669400: W external/local_tsl/tsl/framework/cpu_allocator_impl.cc:83] Allocation of 268435456 exceeds 10% of free system memory.\n",
      "2023-12-05 09:32:27.700203: W external/local_tsl/tsl/framework/cpu_allocator_impl.cc:83] Allocation of 268435456 exceeds 10% of free system memory.\n"
     ]
    },
    {
     "name": "stdout",
     "output_type": "stream",
     "text": [
      "18/18 [==============================] - 41s 2s/step - loss: 9.9157 - accuracy: 0.0811 - val_loss: 3.0619 - val_accuracy: 0.0579\n",
      "Epoch 2/15\n",
      "18/18 [==============================] - 38s 2s/step - loss: 2.8927 - accuracy: 0.1199 - val_loss: 2.9722 - val_accuracy: 0.0661\n",
      "Epoch 3/15\n",
      "18/18 [==============================] - 38s 2s/step - loss: 2.6690 - accuracy: 0.1693 - val_loss: 2.9697 - val_accuracy: 0.0579\n",
      "Epoch 4/15\n",
      "18/18 [==============================] - 39s 2s/step - loss: 2.4725 - accuracy: 0.2257 - val_loss: 2.7616 - val_accuracy: 0.1240\n",
      "Epoch 5/15\n",
      "18/18 [==============================] - 39s 2s/step - loss: 2.2720 - accuracy: 0.2769 - val_loss: 2.8268 - val_accuracy: 0.1281\n",
      "Epoch 6/15\n",
      "18/18 [==============================] - 38s 2s/step - loss: 2.1303 - accuracy: 0.3333 - val_loss: 2.8017 - val_accuracy: 0.0744\n",
      "Epoch 7/15\n",
      "18/18 [==============================] - 39s 2s/step - loss: 1.9704 - accuracy: 0.3880 - val_loss: 2.7797 - val_accuracy: 0.1364\n",
      "Epoch 8/15\n",
      "18/18 [==============================] - 38s 2s/step - loss: 1.7553 - accuracy: 0.4568 - val_loss: 2.6814 - val_accuracy: 0.1446\n",
      "Epoch 9/15\n",
      "18/18 [==============================] - 38s 2s/step - loss: 1.5395 - accuracy: 0.5362 - val_loss: 2.7398 - val_accuracy: 0.1198\n",
      "Epoch 10/15\n",
      "18/18 [==============================] - 37s 2s/step - loss: 1.3235 - accuracy: 0.5961 - val_loss: 2.7372 - val_accuracy: 0.1446\n",
      "Epoch 11/15\n",
      "18/18 [==============================] - 39s 2s/step - loss: 1.2087 - accuracy: 0.6243 - val_loss: 2.7051 - val_accuracy: 0.1818\n",
      "Epoch 12/15\n",
      "18/18 [==============================] - 38s 2s/step - loss: 1.2168 - accuracy: 0.6437 - val_loss: 2.7153 - val_accuracy: 0.1446\n",
      "Epoch 13/15\n",
      "18/18 [==============================] - 40s 2s/step - loss: 1.1351 - accuracy: 0.6314 - val_loss: 2.8605 - val_accuracy: 0.1570\n",
      "Epoch 14/15\n",
      "18/18 [==============================] - 40s 2s/step - loss: 0.9646 - accuracy: 0.6931 - val_loss: 2.6980 - val_accuracy: 0.1405\n",
      "Epoch 15/15\n",
      "18/18 [==============================] - 40s 2s/step - loss: 0.8558 - accuracy: 0.7337 - val_loss: 2.8170 - val_accuracy: 0.1322\n",
      "8/8 [==============================] - 2s 266ms/step - loss: 2.8339 - accuracy: 0.1116\n"
     ]
    }
   ],
   "source": [
    "# 모델 컴파일\n",
    "model.compile(optimizer='adam', loss='categorical_crossentropy', metrics=['accuracy'])\n",
    "\n",
    "# 모델 학습\n",
    "result = model.fit(train_generator, epochs=15, validation_data=validation_generator)\n",
    "\n",
    "# 모델 평가\n",
    "loss, accuracy = model.evaluate(validation_generator)"
   ]
  },
  {
   "cell_type": "code",
   "execution_count": 13,
   "metadata": {},
   "outputs": [
    {
     "data": {
      "text/plain": [
       "{'loss': [9.915729522705078,\n",
       "  2.8926775455474854,\n",
       "  2.668992042541504,\n",
       "  2.472477912902832,\n",
       "  2.2719991207122803,\n",
       "  2.1303043365478516,\n",
       "  1.9703700542449951,\n",
       "  1.7553107738494873,\n",
       "  1.539512038230896,\n",
       "  1.3234905004501343,\n",
       "  1.2086697816848755,\n",
       "  1.2167706489562988,\n",
       "  1.1350678205490112,\n",
       "  0.9645933508872986,\n",
       "  0.8558194041252136],\n",
       " 'accuracy': [0.08112874627113342,\n",
       "  0.11992945522069931,\n",
       "  0.16931216418743134,\n",
       "  0.22574955224990845,\n",
       "  0.2768959403038025,\n",
       "  0.3333333432674408,\n",
       "  0.3880070447921753,\n",
       "  0.45679011940956116,\n",
       "  0.5361552238464355,\n",
       "  0.5961199402809143,\n",
       "  0.6243386268615723,\n",
       "  0.6437389850616455,\n",
       "  0.631393313407898,\n",
       "  0.6931216716766357,\n",
       "  0.733686089515686],\n",
       " 'val_loss': [3.0618531703948975,\n",
       "  2.972163677215576,\n",
       "  2.969677686691284,\n",
       "  2.7616121768951416,\n",
       "  2.826786994934082,\n",
       "  2.801724672317505,\n",
       "  2.7796995639801025,\n",
       "  2.681386947631836,\n",
       "  2.7397944927215576,\n",
       "  2.7371654510498047,\n",
       "  2.705146074295044,\n",
       "  2.715322971343994,\n",
       "  2.8604702949523926,\n",
       "  2.6980209350585938,\n",
       "  2.817037343978882],\n",
       " 'val_accuracy': [0.057851240038871765,\n",
       "  0.06611569970846176,\n",
       "  0.057851240038871765,\n",
       "  0.12396693974733353,\n",
       "  0.12809917330741882,\n",
       "  0.07438016682863235,\n",
       "  0.13636364042758942,\n",
       "  0.14462809264659882,\n",
       "  0.11983471363782883,\n",
       "  0.14462809264659882,\n",
       "  0.1818181872367859,\n",
       "  0.14462809264659882,\n",
       "  0.1570248007774353,\n",
       "  0.14049586653709412,\n",
       "  0.13223139941692352]}"
      ]
     },
     "execution_count": 13,
     "metadata": {},
     "output_type": "execute_result"
    }
   ],
   "source": [
    "# epoch에 따른 결과 확인\n",
    "result.history"
   ]
  },
  {
   "cell_type": "code",
   "execution_count": 14,
   "metadata": {},
   "outputs": [],
   "source": [
    "# 정확도 비교 설정\n",
    "acc = result.history['accuracy']\n",
    "val_acc = result.history['val_accuracy']\n",
    "\n",
    "# loss값 비교 설정\n",
    "loss = result.history['loss']\n",
    "val_loss = result.history['val_loss']\n",
    "\n",
    "# x축 -> epochs 돌린 수\n",
    "epochs = range(len(acc))"
   ]
  },
  {
   "cell_type": "code",
   "execution_count": 51,
   "metadata": {},
   "outputs": [
    {
     "data": {
      "text/plain": [
       "<matplotlib.legend.Legend at 0x7fa2303d20b0>"
      ]
     },
     "execution_count": 51,
     "metadata": {},
     "output_type": "execute_result"
    },
    {
     "data": {
      "image/png": "[encoded data removed]",
      "text/plain": [
       "<Figure size 640x480 with 1 Axes>"
      ]
     },
     "metadata": {},
     "output_type": "display_data"
    },
    {
     "data": {
      "image/png": "[encoded data removed]",
      "text/plain": [
       "<Figure size 640x480 with 1 Axes>"
      ]
     },
     "metadata": {},
     "output_type": "display_data"
    }
   ],
   "source": [
    "# legend label 삽입\n",
    "plt.plot(epochs, acc, label='train_acc')\n",
    "plt.plot(epochs, val_acc, label='val_acc')\n",
    "plt.legend()\n",
    "\n",
    "# 새 그래프 생성\n",
    "plt.figure()\n",
    "\n",
    "plt.plot(epochs, loss, label='train_loss')\n",
    "plt.plot(epochs, val_loss, label='val_loss')\n",
    "plt.legend()"
   ]
  },
  {
   "cell_type": "code",
   "execution_count": 45,
   "metadata": {},
   "outputs": [],
   "source": [
    "# 정답 라벨\n",
    "true_labels = validation_generator.labels"
   ]
  },
  {
   "cell_type": "code",
   "execution_count": 46,
   "metadata": {},
   "outputs": [
    {
     "name": "stdout",
     "output_type": "stream",
     "text": [
      "8/8 [==============================] - 2s 260ms/step\n"
     ]
    }
   ],
   "source": [
    "# 모델 예측치 생성\n",
    "predictions = model.predict(validation_generator)"
   ]
  },
  {
   "cell_type": "code",
   "execution_count": 91,
   "metadata": {},
   "outputs": [],
   "source": [
    "# 예측치 라벨 배열\n",
    "predict_labels = []\n",
    "\n",
    "max_idx = -1\n",
    "max_val = -1\n",
    "\n",
    "# 확률값의 최대치 idx를 판단한 정답이라고 보고 idx 넣는다.\n",
    "for i in range(0,predictions.__len__()):\n",
    "    for j in range(0,predictions[i].__len__()):\n",
    "        if max_val < predictions[i][j]:\n",
    "            max_val = predictions[i][j]\n",
    "            max_idx = j\n",
    "\n",
    "    predict_labels.append(max_idx)\n",
    "    max_val = -1\n",
    "    max_idx = -1"
   ]
  },
  {
   "cell_type": "code",
   "execution_count": 95,
   "metadata": {},
   "outputs": [],
   "source": [
    "# 타입을 맞춘 수 들어갈 배열\n",
    "cur_types = [0 for _ in range(0,18)]\n",
    "\n",
    "# 실제 타입의 이름\n",
    "type_list = list(matched_data['Type1'].unique())\n",
    "\n",
    "# 타입을 맞추면 ? -> 그 타입에 상응하는 idx에 값을 넣는다.\n",
    "for i in range(0,predict_labels.__len__()):\n",
    "    if true_labels[i] == predict_labels[i]:\n",
    "        cur_types[true_labels[i]] += 1"
   ]
  },
  {
   "cell_type": "code",
   "execution_count": 96,
   "metadata": {},
   "outputs": [
    {
     "data": {
      "image/png": "[encoded data removed]",
      "text/plain": [
       "<Figure size 640x480 with 1 Axes>"
      ]
     },
     "metadata": {},
     "output_type": "display_data"
    }
   ],
   "source": [
    "import numpy as np\n",
    "\n",
    "# Bar 형식의 그래프 생성\n",
    "plt.barh(type_list, cur_types)\n",
    "\n",
    "plt.show()"
   ]
  }
 ],
 "metadata": {
  "kernelspec": {
   "display_name": "base",
   "language": "python",
   "name": "python3"
  },
  "language_info": {
   "codemirror_mode": {
    "name": "ipython",
    "version": 3
   },
   "file_extension": ".py",
   "mimetype": "text/x-python",
   "name": "python",
   "nbconvert_exporter": "python",
   "pygments_lexer": "ipython3",
   "version": "3.10.12"
  }
 },
 "nbformat": 4,
 "nbformat_minor": 2
}
