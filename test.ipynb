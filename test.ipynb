{
 "cells": [
  {
   "cell_type": "code",
   "execution_count": 9,
   "metadata": {},
   "outputs": [
    {
     "name": "stderr",
     "output_type": "stream",
     "text": [
      "2023-11-29 12:24:05.008588: I tensorflow/core/platform/cpu_feature_guard.cc:182] This TensorFlow binary is optimized to use available CPU instructions in performance-critical operations.\n",
      "To enable the following instructions: SSE4.1 SSE4.2 AVX AVX2 FMA, in other operations, rebuild TensorFlow with the appropriate compiler flags.\n"
     ]
    }
   ],
   "source": [
    "import tensorflow as tf\n",
    "from tensorflow import keras\n",
    "import polars as pl\n",
    "import matplotlib.pyplot as plt"
   ]
  },
  {
   "cell_type": "code",
   "execution_count": 10,
   "metadata": {},
   "outputs": [
    {
     "data": {
      "text/html": [
       "<div><style>\n",
       ".dataframe > thead > tr,\n",
       ".dataframe > tbody > tr {\n",
       "  text-align: right;\n",
       "  white-space: pre-wrap;\n",
       "}\n",
       "</style>\n",
       "<small>shape: (5, 3)</small><table border=\"1\" class=\"dataframe\"><thead><tr><th>Name</th><th>Type1</th><th>Type2</th></tr><tr><td>str</td><td>str</td><td>str</td></tr></thead><tbody><tr><td>&quot;bulbasaur&quot;</td><td>&quot;Grass&quot;</td><td>&quot;Poison&quot;</td></tr><tr><td>&quot;ivysaur&quot;</td><td>&quot;Grass&quot;</td><td>&quot;Poison&quot;</td></tr><tr><td>&quot;venusaur&quot;</td><td>&quot;Grass&quot;</td><td>&quot;Poison&quot;</td></tr><tr><td>&quot;charmander&quot;</td><td>&quot;Fire&quot;</td><td>null</td></tr><tr><td>&quot;charmeleon&quot;</td><td>&quot;Fire&quot;</td><td>null</td></tr></tbody></table></div>"
      ],
      "text/plain": [
       "shape: (5, 3)\n",
       "┌────────────┬───────┬────────┐\n",
       "│ Name       ┆ Type1 ┆ Type2  │\n",
       "│ ---        ┆ ---   ┆ ---    │\n",
       "│ str        ┆ str   ┆ str    │\n",
       "╞════════════╪═══════╪════════╡\n",
       "│ bulbasaur  ┆ Grass ┆ Poison │\n",
       "│ ivysaur    ┆ Grass ┆ Poison │\n",
       "│ venusaur   ┆ Grass ┆ Poison │\n",
       "│ charmander ┆ Fire  ┆ null   │\n",
       "│ charmeleon ┆ Fire  ┆ null   │\n",
       "└────────────┴───────┴────────┘"
      ]
     },
     "execution_count": 10,
     "metadata": {},
     "output_type": "execute_result"
    }
   ],
   "source": [
    "poke_data = pl.read_csv(\"./pokemon.csv\")\n",
    "\n",
    "poke_data.head()"
   ]
  },
  {
   "cell_type": "markdown",
   "metadata": {},
   "source": [
    "전체 데이터 개수 확인"
   ]
  },
  {
   "cell_type": "code",
   "execution_count": 19,
   "metadata": {},
   "outputs": [
    {
     "data": {
      "text/plain": [
       "809"
      ]
     },
     "execution_count": 19,
     "metadata": {},
     "output_type": "execute_result"
    }
   ],
   "source": [
    "poke_data['Name'].__len__()"
   ]
  },
  {
   "cell_type": "markdown",
   "metadata": {},
   "source": [
    "결측치 확인 -> \n",
    "\n",
    "단일 타입일 경우 Type2가 없음을 확인"
   ]
  },
  {
   "cell_type": "code",
   "execution_count": 17,
   "metadata": {},
   "outputs": [
    {
     "data": {
      "text/html": [
       "<div><style>\n",
       ".dataframe > thead > tr,\n",
       ".dataframe > tbody > tr {\n",
       "  text-align: right;\n",
       "  white-space: pre-wrap;\n",
       "}\n",
       "</style>\n",
       "<small>shape: (1, 3)</small><table border=\"1\" class=\"dataframe\"><thead><tr><th>Name</th><th>Type1</th><th>Type2</th></tr><tr><td>u32</td><td>u32</td><td>u32</td></tr></thead><tbody><tr><td>0</td><td>0</td><td>404</td></tr></tbody></table></div>"
      ],
      "text/plain": [
       "shape: (1, 3)\n",
       "┌──────┬───────┬───────┐\n",
       "│ Name ┆ Type1 ┆ Type2 │\n",
       "│ ---  ┆ ---   ┆ ---   │\n",
       "│ u32  ┆ u32   ┆ u32   │\n",
       "╞══════╪═══════╪═══════╡\n",
       "│ 0    ┆ 0     ┆ 404   │\n",
       "└──────┴───────┴───────┘"
      ]
     },
     "execution_count": 17,
     "metadata": {},
     "output_type": "execute_result"
    }
   ],
   "source": [
    "poke_data.null_count()"
   ]
  },
  {
   "cell_type": "markdown",
   "metadata": {},
   "source": [
    "이미지 불러온 후, 경로 리스트 생성"
   ]
  },
  {
   "cell_type": "code",
   "execution_count": 2,
   "metadata": {},
   "outputs": [],
   "source": [
    "import os\n",
    "img_path = \"./images/images/\"\n",
    "file_list = os.listdir(img_path)\n",
    "\n",
    "jpg_names = [os.path.split(x)[1] for x in file_list]\n",
    "\n",
    "poke_names = list(map(lambda x: x.replace('.png', ''), jpg_names))"
   ]
  },
  {
   "cell_type": "markdown",
   "metadata": {},
   "source": [
    "이미지 관련 데이터 프레임 생성 후 매칭되는 데이터 확인"
   ]
  },
  {
   "cell_type": "code",
   "execution_count": 59,
   "metadata": {},
   "outputs": [
    {
     "data": {
      "text/html": [
       "<div><style>\n",
       ".dataframe > thead > tr,\n",
       ".dataframe > tbody > tr {\n",
       "  text-align: right;\n",
       "  white-space: pre-wrap;\n",
       "}\n",
       "</style>\n",
       "<small>shape: (5, 4)</small><table border=\"1\" class=\"dataframe\"><thead><tr><th>Name</th><th>Path</th><th>Type1</th><th>Type2</th></tr><tr><td>str</td><td>str</td><td>str</td><td>str</td></tr></thead><tbody><tr><td>&quot;bulbasaur&quot;</td><td>&quot;./images/image…</td><td>&quot;Grass&quot;</td><td>&quot;Poison&quot;</td></tr><tr><td>&quot;ivysaur&quot;</td><td>&quot;./images/image…</td><td>&quot;Grass&quot;</td><td>&quot;Poison&quot;</td></tr><tr><td>&quot;venusaur&quot;</td><td>&quot;./images/image…</td><td>&quot;Grass&quot;</td><td>&quot;Poison&quot;</td></tr><tr><td>&quot;charmander&quot;</td><td>&quot;./images/image…</td><td>&quot;Fire&quot;</td><td>null</td></tr><tr><td>&quot;charmeleon&quot;</td><td>&quot;./images/image…</td><td>&quot;Fire&quot;</td><td>null</td></tr></tbody></table></div>"
      ],
      "text/plain": [
       "shape: (5, 4)\n",
       "┌────────────┬────────────────────────────────┬───────┬────────┐\n",
       "│ Name       ┆ Path                           ┆ Type1 ┆ Type2  │\n",
       "│ ---        ┆ ---                            ┆ ---   ┆ ---    │\n",
       "│ str        ┆ str                            ┆ str   ┆ str    │\n",
       "╞════════════╪════════════════════════════════╪═══════╪════════╡\n",
       "│ bulbasaur  ┆ ./images/images/bulbasaur.png  ┆ Grass ┆ Poison │\n",
       "│ ivysaur    ┆ ./images/images/ivysaur.png    ┆ Grass ┆ Poison │\n",
       "│ venusaur   ┆ ./images/images/venusaur.png   ┆ Grass ┆ Poison │\n",
       "│ charmander ┆ ./images/images/charmander.png ┆ Fire  ┆ null   │\n",
       "│ charmeleon ┆ ./images/images/charmeleon.png ┆ Fire  ┆ null   │\n",
       "└────────────┴────────────────────────────────┴───────┴────────┘"
      ]
     },
     "execution_count": 59,
     "metadata": {},
     "output_type": "execute_result"
    }
   ],
   "source": [
    "img_data = pl.DataFrame(data=[poke_names, list(map(lambda x: img_path + x, jpg_names))]) \n",
    "\n",
    "img_data = img_data.rename({'column_0' : 'Name', 'column_1' : 'Path'})\n",
    "\n",
    "matched_data = img_data.join(poke_data, on='Name')\n",
    "\n",
    "matched_data.head()"
   ]
  }
 ],
 "metadata": {
  "kernelspec": {
   "display_name": "base",
   "language": "python",
   "name": "python3"
  },
  "language_info": {
   "codemirror_mode": {
    "name": "ipython",
    "version": 3
   },
   "file_extension": ".py",
   "mimetype": "text/x-python",
   "name": "python",
   "nbconvert_exporter": "python",
   "pygments_lexer": "ipython3",
   "version": "3.11.5"
  }
 },
 "nbformat": 4,
 "nbformat_minor": 2
}
